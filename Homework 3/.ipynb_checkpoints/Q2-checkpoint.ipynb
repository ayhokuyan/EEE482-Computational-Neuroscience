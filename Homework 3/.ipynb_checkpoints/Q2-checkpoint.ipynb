{
 "cells": [
  {
   "cell_type": "code",
   "execution_count": 1,
   "metadata": {},
   "outputs": [],
   "source": [
    "import numpy as np\n",
    "import matplotlib.pyplot as plt\n",
    "import h5py\n",
    "from scipy.stats import norm"
   ]
  },
  {
   "cell_type": "code",
   "execution_count": 2,
   "metadata": {},
   "outputs": [
    {
     "name": "stdout",
     "output_type": "stream",
     "text": [
      "<KeysViewHDF5 ['building', 'face', 'pop1', 'pop2', 'vox1', 'vox2']>\n",
      "pop1:\n",
      " [[3. 4. 2. 3. 4. 3. 4.]]\n",
      "pop2:\n",
      " [[1. 0. 2. 3. 1.]]\n",
      "vox1:\n",
      " [[ 6.25    7.84   11.56    4.      1.44    4.41    3.24    7.84    1.21\n",
      "   4.84   10.24    0.3721  9.      0.2809  4.      0.2025  4.      1.\n",
      "   0.2809  1.44    4.84    6.25    3.61    3.61    7.84    7.84    1.69\n",
      "   9.61    7.29    5.29    0.2209  4.41    2.25   14.44    9.      7.84\n",
      "   0.9409  6.25    5.29   15.21    0.2916 12.96    5.29    7.29   19.36\n",
      "   7.29    0.1936  4.41    2.89    4.41  ]]\n",
      "vox2:\n",
      " [[3.481e+01 4.096e+01 1.369e+01 9.610e+00 2.601e+01 1.296e+01 3.844e+01\n",
      "  2.601e+01 9.000e+00 2.209e+01 3.600e+01 1.440e+00 3.721e+01 2.601e-01\n",
      "  1.936e+01 9.000e+00 2.601e+01 4.840e+00 1.960e-02 1.024e+01 5.184e+01\n",
      "  5.476e+01 1.600e+01 2.025e+01 2.809e+01 4.000e+00 2.401e+01 9.000e+00\n",
      "  2.116e+01 1.521e+01 1.225e+01 1.764e+01 1.296e+01 2.916e+01 2.025e+01\n",
      "  3.721e+01 6.760e+00 2.401e+01 1.225e+01 2.304e+01 1.000e+00 4.624e+01\n",
      "  1.764e+01 1.369e+01 5.625e+01 2.890e+00 7.840e+00 3.240e+00 1.296e+01\n",
      "  1.849e+01]]\n",
      "building:\n",
      " [[2.67 3.87 3.37 1.72 3.4  3.07 2.72 2.46 2.78 4.73 2.42 4.17 3.51 3.31\n",
      "  4.77 2.96 3.   2.54 3.16 3.36]]\n",
      "face:\n",
      " [[4.66 5.12 4.06 3.73 3.29 5.59 1.74 4.53 3.63 4.95 4.43 4.41 3.85 4.19\n",
      "  2.73 4.31 3.31 3.45 3.31 3.61]]\n"
     ]
    },
    {
     "name": "stderr",
     "output_type": "stream",
     "text": [
      "c:\\users\\ayhok\\appdata\\local\\programs\\python\\python37\\lib\\site-packages\\h5py\\_hl\\dataset.py:313: H5pyDeprecationWarning: dataset.value has been deprecated. Use dataset[()] instead.\n",
      "  \"Use dataset[()] instead.\", H5pyDeprecationWarning)\n"
     ]
    }
   ],
   "source": [
    "with h5py.File('hw3_data3.mat', 'r') as f:\n",
    "    print(f.keys())\n",
    "    pop1 = f['pop1'].value\n",
    "    pop2 = f['pop2'].value\n",
    "    vox1 = f['vox1'].value\n",
    "    vox2 = f['vox2'].value\n",
    "    building = f['building'].value\n",
    "    face = f['face'].value\n",
    "print('pop1:\\n', pop1.T)\n",
    "print('pop2:\\n', pop2.T)\n",
    "print('vox1:\\n', vox1.T)\n",
    "print('vox2:\\n', vox2.T)\n",
    "print('building:\\n', building.T)\n",
    "print('face:\\n', face.T)"
   ]
  },
  {
   "cell_type": "markdown",
   "metadata": {},
   "source": [
    "## Part A"
   ]
  },
  {
   "cell_type": "code",
   "execution_count": 3,
   "metadata": {},
   "outputs": [],
   "source": [
    "def gen_bootstrap(X):\n",
    "    num_sample = X.shape[0]\n",
    "    seq = [np.random.randint(0,num_sample) for i in range(num_sample)]\n",
    "    X_boot = X[seq]\n",
    "    return X_boot \n",
    "\n",
    "def gen_bootstrap_vox(x,y):\n",
    "    num_sample = x.shape[0]\n",
    "    seq = [np.random.randint(0,num_sample) for i in range(num_sample)]\n",
    "    x_boot = x[seq]\n",
    "    y_boot = y[seq]\n",
    "    return (x_boot,y_boot)"
   ]
  },
  {
   "cell_type": "code",
   "execution_count": 6,
   "metadata": {},
   "outputs": [
    {
     "data": {
      "image/png": "[encoded data removed]",
      "text/plain": [
       "<Figure size 432x288 with 1 Axes>"
      ]
     },
     "metadata": {
      "needs_background": "light"
     },
     "output_type": "display_data"
    }
   ],
   "source": [
    "BOOTSTRAP_ITER = 10000\n",
    "x_comb = np.vstack((pop1,pop2))\n",
    "mean_diffs = []\n",
    "for i in range(BOOTSTRAP_ITER):\n",
    "    x_boot = gen_bootstrap(x_comb)\n",
    "    pop1_boot = x_boot[0:pop1.shape[0]]\n",
    "    pop2_boot = x_boot[pop1.shape[0]:x_boot.shape[0]]\n",
    "    mean_diffs.append(np.mean(pop1_boot)-np.mean(pop2_boot))\n",
    "plt.title('Difference of Means (10000 Bootstrap Iterations)')\n",
    "plt.xlabel('$(\\mu_1-\\mu_2)| H_0$')\n",
    "plt.ylabel('$P(x|H_0)$')\n",
    "plt.hist(mean_diffs, bins=60, density=True)\n",
    "plt.show()"
   ]
  },
  {
   "cell_type": "code",
   "execution_count": 9,
   "metadata": {},
   "outputs": [
    {
     "name": "stdout",
     "output_type": "stream",
     "text": [
      "z-value:  2.581616441356418\n",
      "Two-Sided p-value:  0.009833881096261932\n"
     ]
    }
   ],
   "source": [
    "x_bar = np.mean(pop1) - np.mean(pop2)\n",
    "std = np.std(mean_diffs)\n",
    "mean = np.mean(mean_diffs)\n",
    "z = (x_bar - mean)/std\n",
    "print('z-value: ', z)\n",
    "p = 2*(1-norm.cdf(z))\n",
    "print('Two-Sided p-value: ', p)"
   ]
  },
  {
   "cell_type": "markdown",
   "metadata": {},
   "source": [
    "## Part B"
   ]
  },
  {
   "cell_type": "code",
   "execution_count": 12,
   "metadata": {},
   "outputs": [],
   "source": [
    "corr_vector = []\n",
    "for i in range(BOOTSTRAP_ITER):\n",
    "    vox1_temp, vox2_temp = gen_bootstrap_vox(vox1,vox2)\n",
    "    corr_temp = np.corrcoef(vox1_temp.T, vox2_temp.T)\n",
    "    corr_vector.append(corr_temp[0,1])"
   ]
  },
  {
   "cell_type": "code",
   "execution_count": 13,
   "metadata": {},
   "outputs": [
    {
     "data": {
      "image/png": "[encoded data removed]",
      "text/plain": [
       "<Figure size 432x288 with 1 Axes>"
      ]
     },
     "metadata": {
      "needs_background": "light"
     },
     "output_type": "display_data"
    },
    {
     "name": "stdout",
     "output_type": "stream",
     "text": [
      "Mean correlation: 0.5576530920838787\n"
     ]
    }
   ],
   "source": [
    "plt.title('Identical Resampling (10000 Bootstrap Iterations)')\n",
    "plt.xlabel('$\\\\rho | H_0$')\n",
    "plt.ylabel('$P(x|H_0)$')\n",
    "plt.hist(corr_vector, bins=60, density=False)\n",
    "plt.show()\n",
    "print('Mean correlation:', np.mean(corr_vector))"
   ]
  },
  {
   "cell_type": "code",
   "execution_count": 14,
   "metadata": {},
   "outputs": [],
   "source": [
    "def confidence_interval(x, percent=95):\n",
    "    low_end = np.percentile(x, (100-percent)/2)\n",
    "    high_end = np.percentile(x, percent+ (100-percent)/2)\n",
    "    return low_end,high_end"
   ]
  },
  {
   "cell_type": "code",
   "execution_count": 15,
   "metadata": {},
   "outputs": [
    {
     "name": "stdout",
     "output_type": "stream",
     "text": [
      "95% confidence interval: (0.32349, 0.75850)\n"
     ]
    }
   ],
   "source": [
    "CONFIDENCE = 95\n",
    "lower_bound, upper_bound = confidence_interval(np.asarray(corr_vector))\n",
    "print('%2d%% confidence interval: (%1.5f, %1.5f)' % (CONFIDENCE, lower_bound, upper_bound))"
   ]
  },
  {
   "cell_type": "code",
   "execution_count": 22,
   "metadata": {},
   "outputs": [
    {
     "name": "stdout",
     "output_type": "stream",
     "text": [
      "Number of zero-correlation values: 0\n"
     ]
    }
   ],
   "source": [
    "corr_zero = len(np.where(np.isclose(corr_vector, 0))[0])\n",
    "print('Number of zero-correlation values:', corr_zero)"
   ]
  },
  {
   "cell_type": "markdown",
   "metadata": {},
   "source": [
    "## Part C"
   ]
  },
  {
   "cell_type": "code",
   "execution_count": 23,
   "metadata": {},
   "outputs": [],
   "source": [
    "corr_vector = []\n",
    "for i in range(BOOTSTRAP_ITER):\n",
    "    vox1_temp = gen_bootstrap(vox1)\n",
    "    vox2_temp = gen_bootstrap(vox2)\n",
    "    corr_temp = np.corrcoef(vox1_temp.T, vox2_temp.T)\n",
    "    corr_vector.append(corr_temp[0,1])"
   ]
  },
  {
   "cell_type": "code",
   "execution_count": 24,
   "metadata": {},
   "outputs": [
    {
     "data": {
      "image/png": "[encoded data removed]",
      "text/plain": [
       "<Figure size 432x288 with 1 Axes>"
      ]
     },
     "metadata": {
      "needs_background": "light"
     },
     "output_type": "display_data"
    },
    {
     "name": "stdout",
     "output_type": "stream",
     "text": [
      "Mean correlation: 0.00039911981239713104\n"
     ]
    }
   ],
   "source": [
    "plt.title('Independent Resampling (10000 Bootstrap Iterations)')\n",
    "plt.xlabel('$\\\\rho | H_0$')\n",
    "plt.ylabel('$P(x|H_0)$')\n",
    "plt.hist(corr_vector, bins=60, density=False)\n",
    "plt.show()\n",
    "print('Mean correlation:', np.mean(corr_vector))"
   ]
  },
  {
   "cell_type": "code",
   "execution_count": 27,
   "metadata": {},
   "outputs": [
    {
     "name": "stdout",
     "output_type": "stream",
     "text": [
      "z-value:  3.9148195911090977\n",
      "One-Sided p-value:  4.5235914834518276e-05\n"
     ]
    }
   ],
   "source": [
    "x_bar = np.corrcoef(vox1.T,vox2.T)[0,1]\n",
    "std = np.std(corr_vector)\n",
    "mean = np.mean(corr_vector)\n",
    "z = (x_bar - mean)/std\n",
    "print('z-value: ', z)\n",
    "p = 1-norm.cdf(z)\n",
    "print('One-Sided p-value: ', p)"
   ]
  },
  {
   "cell_type": "markdown",
   "metadata": {},
   "source": [
    "## Part D"
   ]
  },
  {
   "cell_type": "code",
   "execution_count": 28,
   "metadata": {},
   "outputs": [],
   "source": [
    "def gen_bootstrap_fb(x,y):\n",
    "    num_sample = x.shape[0]   \n",
    "    seq = [np.random.randint(0,num_sample) for i in range(num_sample)]\n",
    "    x_boot = x[seq]\n",
    "    y_boot = y[seq]\n",
    "    dif_vector = []\n",
    "    for i in range(num_sample):\n",
    "        x_temp = x_boot[i]\n",
    "        y_temp = y_boot[i]\n",
    "        x_dif = x_temp - y_temp\n",
    "        opt = [0,0,x_dif,-1*x_dif]\n",
    "        dif_vector.append(np.random.choice(opt))\n",
    "    return np.asarray(dif_vector)"
   ]
  },
  {
   "cell_type": "code",
   "execution_count": 29,
   "metadata": {},
   "outputs": [
    {
     "data": {
      "image/png": "[encoded data removed]",
      "text/plain": [
       "<Figure size 432x288 with 1 Axes>"
      ]
     },
     "metadata": {
      "needs_background": "light"
     },
     "output_type": "display_data"
    }
   ],
   "source": [
    "mean_diffs = []\n",
    "for i in range(BOOTSTRAP_ITER):\n",
    "    dif_vect = gen_bootstrap_fb(face,building)\n",
    "    mean_diffs.append(np.mean(dif_vect)[0])\n",
    "plt.title('Difference of Means Pairwise Resampling (10000 Bootstrap Iterations)')\n",
    "plt.xlabel('$(\\mu_{face}-\\mu_{building})| H_0$')\n",
    "plt.ylabel('$P(x|H_0)$')\n",
    "plt.hist(mean_diffs, bins=60, density=True)\n",
    "plt.show()"
   ]
  },
  {
   "cell_type": "code",
   "execution_count": 30,
   "metadata": {},
   "outputs": [
    {
     "name": "stdout",
     "output_type": "stream",
     "text": [
      "z-value:  3.560863658919425\n",
      "Two-Sided p-value:  0.0003696369895145324\n"
     ]
    }
   ],
   "source": [
    "x_bar = np.mean(face) - np.mean(building)\n",
    "std = np.std(mean_diffs)\n",
    "mean = np.mean(mean_diffs)\n",
    "z = (x_bar - mean)/std\n",
    "print('z-value: ', z)\n",
    "p = 2*(1-norm.cdf(np.abs(z)))\n",
    "print('Two-Sided p-value: ', p)"
   ]
  },
  {
   "cell_type": "markdown",
   "metadata": {},
   "source": [
    "## Part E"
   ]
  },
  {
   "cell_type": "code",
   "execution_count": 31,
   "metadata": {},
   "outputs": [
    {
     "data": {
      "image/png": "[encoded data removed]",
      "text/plain": [
       "<Figure size 432x288 with 1 Axes>"
      ]
     },
     "metadata": {
      "needs_background": "light"
     },
     "output_type": "display_data"
    }
   ],
   "source": [
    "x_comb = np.vstack((face,building))\n",
    "mean_diffs = []\n",
    "for i in range(BOOTSTRAP_ITER):\n",
    "    x_boot = gen_bootstrap(x_comb)\n",
    "    face_boot = x_boot[0:face.shape[0]]\n",
    "    build_boot = x_boot[face.shape[0]:x_boot.shape[0]]\n",
    "    mean_diffs.append(np.mean(face_boot)-np.mean(build_boot))\n",
    "plt.title('Difference of Means (10000 Bootstrap Iterations)')\n",
    "plt.xlabel('$(\\mu_1-\\mu_2)| H_0$')\n",
    "plt.ylabel('$P(x|H_0)$')\n",
    "plt.hist(mean_diffs, bins=60, density=True)\n",
    "plt.show()"
   ]
  },
  {
   "cell_type": "code",
   "execution_count": 32,
   "metadata": {},
   "outputs": [
    {
     "name": "stdout",
     "output_type": "stream",
     "text": [
      "z-value:  2.6775845393867996\n",
      "Two-Sided p-value:  0.0074155136243534425\n"
     ]
    }
   ],
   "source": [
    "x_bar = np.mean(face) - np.mean(building)\n",
    "std = np.std(mean_diffs)\n",
    "mean = np.mean(mean_diffs)\n",
    "z = (x_bar - mean)/std\n",
    "print('z-value: ', z)\n",
    "p = 2*(1-norm.cdf(np.abs(z)))\n",
    "print('Two-Sided p-value: ', p)"
   ]
  },
  {
   "cell_type": "code",
   "execution_count": null,
   "metadata": {},
   "outputs": [],
   "source": []
  }
 ],
 "metadata": {
  "kernelspec": {
   "display_name": "Python 3",
   "language": "python",
   "name": "python3"
  },
  "language_info": {
   "codemirror_mode": {
    "name": "ipython",
    "version": 3
   },
   "file_extension": ".py",
   "mimetype": "text/x-python",
   "name": "python",
   "nbconvert_exporter": "python",
   "pygments_lexer": "ipython3",
   "version": "3.7.2"
  }
 },
 "nbformat": 4,
 "nbformat_minor": 4
}
