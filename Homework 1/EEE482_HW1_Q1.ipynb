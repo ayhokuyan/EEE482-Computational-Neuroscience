{
 "cells": [
  {
   "cell_type": "markdown",
   "metadata": {},
   "source": [
    "## Question 1"
   ]
  },
  {
   "cell_type": "code",
   "execution_count": 1,
   "metadata": {},
   "outputs": [],
   "source": [
    "import numpy as np\n",
    "import matplotlib.pyplot as plt"
   ]
  },
  {
   "cell_type": "markdown",
   "metadata": {},
   "source": [
    "### Part A"
   ]
  },
  {
   "cell_type": "code",
   "execution_count": 2,
   "metadata": {},
   "outputs": [],
   "source": [
    "A = np.matrix('[1, 0, -1, 2; 2, 1, -1, 5; 3, 3, 0, 9]')"
   ]
  },
  {
   "cell_type": "code",
   "execution_count": 3,
   "metadata": {},
   "outputs": [
    {
     "name": "stdout",
     "output_type": "stream",
     "text": [
      "Result of Ax [[0.00000000e+00 2.22044605e-16 4.44089210e-16]]\n"
     ]
    }
   ],
   "source": [
    "alpha = np.random.rand()\n",
    "beta = np.random.rand()\n",
    "x = np.asarray([alpha-2*beta, -alpha-beta, alpha, beta])\n",
    "result = np.matmul(A,x)\n",
    "print('Result of Ax', result)"
   ]
  },
  {
   "cell_type": "markdown",
   "metadata": {},
   "source": [
    "### Part B"
   ]
  },
  {
   "cell_type": "code",
   "execution_count": 4,
   "metadata": {},
   "outputs": [
    {
     "name": "stdout",
     "output_type": "stream",
     "text": [
      "Result of Ax [[1 4 9]]\n"
     ]
    }
   ],
   "source": [
    "alpha = 5\n",
    "beta = 10\n",
    "x = np.asarray([1+alpha-2*beta, 2-alpha-beta, alpha, beta])\n",
    "result = np.matmul(A,x)\n",
    "print('Result of Ax', result)"
   ]
  },
  {
   "cell_type": "markdown",
   "metadata": {},
   "source": [
    "### Part C"
   ]
  },
  {
   "cell_type": "code",
   "execution_count": 5,
   "metadata": {},
   "outputs": [
    {
     "name": "stdout",
     "output_type": "stream",
     "text": [
      "Result of Ax [[1. 4. 9.]]\n"
     ]
    }
   ],
   "source": [
    "alpha = np.random.rand()\n",
    "beta = np.random.rand()\n",
    "x = np.asarray([1+alpha-2*beta, 2-alpha-beta, alpha, beta])\n",
    "result = np.matmul(A,x)\n",
    "print('Result of Ax', result)"
   ]
  },
  {
   "cell_type": "markdown",
   "metadata": {},
   "source": [
    "### Part D"
   ]
  },
  {
   "cell_type": "markdown",
   "metadata": {},
   "source": [
    "The last eigenvalue is NOT taken since the original value is zero, however is not zero due to the limiting computational capacity of the computer, whose recirpocal is huge, which responds to a highly biased pseudoınverse matrix. Hence, we have taken it as zero."
   ]
  },
  {
   "cell_type": "code",
   "execution_count": null,
   "metadata": {},
   "outputs": [],
   "source": []
  },
  {
   "cell_type": "code",
   "execution_count": 6,
   "metadata": {},
   "outputs": [
    {
     "name": "stdout",
     "output_type": "stream",
     "text": [
      "Pseudo-inverse with SVD\n",
      " [[ 0.12693498  0.10835913 -0.05572755]\n",
      " [-0.23529412 -0.17647059  0.17647059]\n",
      " [-0.3622291  -0.28482972  0.23219814]\n",
      " [ 0.01857585  0.04024768  0.06501548]]\n",
      "Pseudo-inverse with pinv\n",
      " [[ 0.12693498  0.10835913 -0.05572755]\n",
      " [-0.23529412 -0.17647059  0.17647059]\n",
      " [-0.3622291  -0.28482972  0.23219814]\n",
      " [ 0.01857585  0.04024768  0.06501548]]\n"
     ]
    }
   ],
   "source": [
    "u, sigma, v_t = np.linalg.svd(A)\n",
    "\n",
    "sigma_ = np.zeros(A.shape)\n",
    "\n",
    "fill_sig = 1/sigma\n",
    "#to remove the computational errors (100 is arbitrary)\n",
    "fill_sig[fill_sig >= 100] = 0\n",
    "np.fill_diagonal(sigma_, fill_sig)\n",
    "sigma_ = sigma_.T\n",
    "\n",
    "psdA = np.matmul(np.matmul(v_t.T,sigma_), u.T)\n",
    "print('Pseudo-inverse with SVD\\n', psdA)\n",
    "\n",
    "psdA_ = np.linalg.pinv(A)\n",
    "print('Pseudo-inverse with pinv\\n', psdA_)"
   ]
  },
  {
   "cell_type": "code",
   "execution_count": 7,
   "metadata": {},
   "outputs": [
    {
     "name": "stdout",
     "output_type": "stream",
     "text": [
      "U\n",
      " [[-0.1898465   0.70019575 -0.6882472 ]\n",
      " [-0.47607011  0.54742401  0.6882472 ]\n",
      " [-0.85867081 -0.45831524 -0.22941573]]\n",
      "V\n",
      " [[-0.32168832  0.27016145  0.89002517  0.17715703]\n",
      " [-0.26407196 -0.53217213  0.22009547 -0.77370331]\n",
      " [ 0.05761637 -0.80233358  0.14994474  0.57485455]\n",
      " [-0.90744861  0.00815077 -0.37004021  0.19884876]]\n",
      "sigma [1.15577684e+01 1.55498883e+00 2.47846108e-16]\n"
     ]
    }
   ],
   "source": [
    "print('U\\n', u)\n",
    "print('V\\n', v_t.T)\n",
    "print('sigma', sigma)"
   ]
  },
  {
   "cell_type": "markdown",
   "metadata": {},
   "source": [
    "### Part E"
   ]
  },
  {
   "cell_type": "code",
   "execution_count": 19,
   "metadata": {},
   "outputs": [
    {
     "data": {
      "image/png": "[encoded data removed]",
      "text/plain": [
       "<Figure size 360x216 with 1 Axes>"
      ]
     },
     "metadata": {
      "needs_background": "light"
     },
     "output_type": "display_data"
    }
   ],
   "source": [
    "rng = np.arange(-5,5,0.01)\n",
    "alpha = np.zeros(rng.shape)\n",
    "beta \n",
    "\n",
    "plt.figure(figsize=(5,3))\n",
    "plt.plot(rng,alpha)\n",
    "plt.plot(rng,2-rng)\n",
    "plt.plot(rng,2*rng-1)\n",
    "plt.axvline(x=0)\n",
    "plt.xlabel('alpha')\n",
    "plt.ylabel('beta')\n",
    "plt.show()\n",
    "\n"
   ]
  },
  {
   "cell_type": "code",
   "execution_count": 20,
   "metadata": {},
   "outputs": [
    {
     "name": "stdout",
     "output_type": "stream",
     "text": [
      "Alpha: 1 Beta: 1\n",
      "x: [0 0 1 1]\n",
      "b: [[1 4 9]]\n",
      "Alpha: 0 Beta: 0\n",
      "x: [1 2 0 0]\n",
      "b: [[1 4 9]]\n",
      "Alpha: 0 Beta: 0.5\n",
      "x: [0.  1.5 0.  0.5]\n",
      "b: [[1. 4. 9.]]\n",
      "Alpha: 0 Beta: 2\n",
      "x: [-3  0  0  2]\n",
      "b: [[1 4 9]]\n",
      "Alpha: -1 Beta: 0\n",
      "x: [ 0  3 -1  0]\n",
      "b: [[1 4 9]]\n",
      "Alpha: 2 Beta: 0\n",
      "x: [3 0 2 0]\n",
      "b: [[1 4 9]]\n"
     ]
    }
   ],
   "source": [
    "sparse_soln_set = [(1,1), (0,0), (0,0.5), (0,2), (-1,0), (2,0)]\n",
    "for alp,bet in sparse_soln_set:\n",
    "    print('Alpha:', alp, 'Beta:', bet)\n",
    "    x = np.asarray([1+alp-2*bet, 2-alp-bet, alp, bet])\n",
    "    print('x:', x)\n",
    "    result = np.matmul(A,x)\n",
    "    print('b:', result[0])"
   ]
  },
  {
   "cell_type": "code",
   "execution_count": 26,
   "metadata": {},
   "outputs": [
    {
     "name": "stdout",
     "output_type": "stream",
     "text": [
      "Least Squares Solution,\n",
      " [0.05882353 0.64705882 0.58823529 0.76470588]\n",
      "Least norm by pseudo-inverse,\n",
      " [[0.05882353 0.64705882 0.58823529 0.76470588]]\n"
     ]
    }
   ],
   "source": [
    "least_norm_calc = [1/17, 11/17, 10/17, 13/17]\n",
    "least_norm_psdinv = np.matmul(psdA, [1,4,9])\n",
    "print('Least Squares Solution,\\n', np.asarray(least_norm_calc))\n",
    "print('Least norm by pseudo-inverse,\\n', least_norm_psdinv)"
   ]
  }
 ],
 "metadata": {
  "kernelspec": {
   "display_name": "Python 3",
   "language": "python",
   "name": "python3"
  },
  "language_info": {
   "codemirror_mode": {
    "name": "ipython",
    "version": 3
   },
   "file_extension": ".py",
   "mimetype": "text/x-python",
   "name": "python",
   "nbconvert_exporter": "python",
   "pygments_lexer": "ipython3",
   "version": "3.7.2"
  }
 },
 "nbformat": 4,
 "nbformat_minor": 4
}
